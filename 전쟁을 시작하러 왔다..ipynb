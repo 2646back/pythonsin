{
 "cells": [
  {
   "cell_type": "code",
   "execution_count": 1,
   "metadata": {},
   "outputs": [],
   "source": [
    "import csv\n",
    "import matplotlib.pyplot as plt\n",
    "f = open('1.csv')\n",
    "f1 = open('2.csv')\n",
    "f2 = open('3.csv')\n",
    "f3 = open('4.csv')\n",
    "f4 = open('5.csv')\n",
    "f5 = open('6.csv')\n",
    "f6 = open('7.csv')\n",
    "f7 = open('8.csv')\n",
    "f8 = open('9.csv')\n",
    "f9 = open('10.csv')\n",
    "f10 = open('11.csv')\n",
    "f11 = open('12.csv')\n",
    "f12 = open('NHIS_OPEN_T20_2016.csv')\n",
    "\n",
    "data = csv.reader(f)\n",
    "\n",
    "\n",
    "\n"
   ]
  },
  {
   "cell_type": "code",
   "execution_count": 6,
   "metadata": {},
   "outputs": [
    {
     "ename": "SyntaxError",
     "evalue": "invalid syntax (<ipython-input-6-7cb2265f4ecc>, line 19)",
     "output_type": "error",
     "traceback": [
      "\u001b[1;36m  File \u001b[1;32m\"<ipython-input-6-7cb2265f4ecc>\"\u001b[1;36m, line \u001b[1;32m19\u001b[0m\n\u001b[1;33m    for i in sick.row[9]\u001b[0m\n\u001b[1;37m                        ^\u001b[0m\n\u001b[1;31mSyntaxError\u001b[0m\u001b[1;31m:\u001b[0m invalid syntax\n"
     ]
    }
   ],
   "source": [
    "import csv\n",
    "import matplotlib.pyplot as plt\n",
    "result = []\n",
    "for i in range(1,6) :\n",
    "    filename = str(i)+'.csv'\n",
    "    tmp = open(filename)\n",
    "    data = csv.reader(tmp)\n",
    "    print(list(data))\n",
    "    \n",
    "    for row in data :\n",
    "        result.append(row)\n",
    "    tmp.close()\n",
    "\n",
    "f = open('e32.csv')\n",
    "sick = csv.reader(f)\n",
    "\n",
    "hohepsick = []\n",
    "hohepjusang = []\n",
    "\n",
    "if 'J' in sick\n",
    " \n",
    "\n"
   ]
  },
  {
   "cell_type": "code",
   "execution_count": null,
   "metadata": {},
   "outputs": [],
   "source": []
  }
 ],
 "metadata": {
  "kernelspec": {
   "display_name": "Python 3",
   "language": "python",
   "name": "python3"
  },
  "language_info": {
   "codemirror_mode": {
    "name": "ipython",
    "version": 3
   },
   "file_extension": ".py",
   "mimetype": "text/x-python",
   "name": "python",
   "nbconvert_exporter": "python",
   "pygments_lexer": "ipython3",
   "version": "3.6.4"
  }
 },
 "nbformat": 4,
 "nbformat_minor": 2
}
